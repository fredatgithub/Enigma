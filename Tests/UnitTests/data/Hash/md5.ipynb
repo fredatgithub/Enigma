{
 "cells": [
  {
   "cell_type": "code",
   "execution_count": 21,
   "metadata": {},
   "outputs": [],
   "source": [
    "import pandas as pd\n",
    "from Crypto.Random import get_random_bytes\n",
    "from Crypto.Hash import MD5"
   ]
  },
  {
   "cell_type": "code",
   "execution_count": 22,
   "metadata": {},
   "outputs": [],
   "source": [
    "d = { 'data': [], 'hash': []}\n",
    "for i in range(20):\n",
    "    data = get_random_bytes(i)\n",
    "    d['data'].append(data.hex())\n",
    "    d['hash'].append(MD5.new(data).hexdigest())\n",
    "pd.DataFrame(d).to_csv('test.csv', index=False)"
   ]
  }
 ],
 "metadata": {
  "kernelspec": {
   "display_name": "CryptoVenv",
   "language": "python",
   "name": "python3"
  },
  "language_info": {
   "codemirror_mode": {
    "name": "ipython",
    "version": 3
   },
   "file_extension": ".py",
   "mimetype": "text/x-python",
   "name": "python",
   "nbconvert_exporter": "python",
   "pygments_lexer": "ipython3",
   "version": "3.11.2"
  },
  "orig_nbformat": 4
 },
 "nbformat": 4,
 "nbformat_minor": 2
}
